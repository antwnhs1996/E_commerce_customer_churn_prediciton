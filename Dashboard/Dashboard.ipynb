{
 "cells": [
  {
   "cell_type": "code",
   "execution_count": 1,
   "id": "d1686117",
   "metadata": {},
   "outputs": [
    {
     "name": "stderr",
     "output_type": "stream",
     "text": [
      "/Users/antwnhsvellopoulos/miniconda3/lib/python3.7/site-packages/dash_bootstrap_components/table.py:1: UserWarning: \n",
      "The dash_html_components package is deprecated. Please replace\n",
      "`import dash_html_components as html` with `from dash import html`\n",
      "  import dash_html_components as html\n",
      "\n",
      "The dash_core_components package is deprecated. Please replace\n",
      "`import dash_core_components as dcc` with `from dash import dcc`\n",
      "\n",
      "The dash_table package is deprecated. Please replace\n",
      "`import dash_table` with `from dash import dash_table`\n",
      "\n",
      "Also, if you're using any of the table format helpers (e.g. Group), replace \n",
      "`from dash_table.Format import Group` with \n",
      "`from dash.dash_table.Format import Group`\n"
     ]
    }
   ],
   "source": [
    "import dash_bootstrap_components as dbc\n",
    "from dash import Input, Output, dcc, html\n",
    "from explainerdashboard import ClassifierExplainer, ExplainerDashboard"
   ]
  },
  {
   "cell_type": "code",
   "execution_count": 2,
   "id": "87ab5862",
   "metadata": {},
   "outputs": [],
   "source": [
    "import pandas as pd\n",
    "from sklearn.ensemble import AdaBoostClassifier, GradientBoostingClassifier\n",
    "from sklearn.pipeline import Pipeline\n",
    "from sklearn.preprocessing import RobustScaler\n",
    "from sklearn.metrics import accuracy_score, precision_score, roc_auc_score\n",
    "from sklearn.feature_selection import SelectKBest,mutual_info_classif\n",
    "from sklearn.model_selection import train_test_split\n",
    "from imblearn.over_sampling import ADASYN"
   ]
  },
  {
   "cell_type": "code",
   "execution_count": 3,
   "id": "c751b14f",
   "metadata": {},
   "outputs": [],
   "source": [
    "from dash_bootstrap_components.themes import FLATLY"
   ]
  },
  {
   "cell_type": "markdown",
   "id": "95391778",
   "metadata": {},
   "source": [
    "## Importing the data "
   ]
  },
  {
   "cell_type": "code",
   "execution_count": 4,
   "id": "b26ce7f3",
   "metadata": {},
   "outputs": [],
   "source": [
    "data_model = pd.read_csv(\"../data/model_data\")"
   ]
  },
  {
   "cell_type": "code",
   "execution_count": 5,
   "id": "5798fcb5",
   "metadata": {},
   "outputs": [],
   "source": [
    "data_model = data_model.drop(columns = 'Unnamed: 0', axis = 1)"
   ]
  },
  {
   "cell_type": "code",
   "execution_count": 6,
   "id": "962d71b3",
   "metadata": {},
   "outputs": [],
   "source": [
    "data_model = data_model.rename(columns={'PreferredPaymentMode_1.0': 'PreferredPaymentMode_1',\n",
    "                                'PreferredPaymentMode_3.0': 'PreferredPaymentMode_3',\n",
    "                                 'PreferredPaymentMode_4.0':'PreferredPaymentMode_4'})"
   ]
  },
  {
   "cell_type": "markdown",
   "id": "4ecb124f",
   "metadata": {},
   "source": [
    "## Oversampling"
   ]
  },
  {
   "cell_type": "code",
   "execution_count": 7,
   "id": "bceeb8a1",
   "metadata": {},
   "outputs": [],
   "source": [
    "X = data_model.drop('Churn', axis = 1)\n",
    "y = data_model['Churn']\n",
    "\n",
    "ada = ADASYN(sampling_strategy='minority', n_neighbors=5, n_jobs=-1)\n",
    "\n",
    "X_res, y_res = ada.fit_resample(X,y)\n",
    "\n",
    "y_res = pd.DataFrame(y_res, columns = ['Churn'])"
   ]
  },
  {
   "cell_type": "markdown",
   "id": "76a5f330",
   "metadata": {},
   "source": [
    "## Scaling"
   ]
  },
  {
   "cell_type": "code",
   "execution_count": 8,
   "id": "3b9b0523",
   "metadata": {},
   "outputs": [],
   "source": [
    "transformer = RobustScaler()\n",
    "\n",
    "X_tr = transformer.fit_transform(X_res)\n",
    "\n",
    "X_tr_df = pd.DataFrame(X_tr, columns = X_res.columns)\n",
    "\n",
    "X_train, X_test, y_train, y_test = train_test_split(X_tr_df, y_res, test_size=0.33, random_state=42)"
   ]
  },
  {
   "cell_type": "markdown",
   "id": "fda8f15a",
   "metadata": {},
   "source": [
    "## creating the dashboard"
   ]
  },
  {
   "cell_type": "markdown",
   "id": "36eff0b1",
   "metadata": {},
   "source": [
    "The next step is to create an interactive dashboard to communicate our findings with the rest of the team. We will create our dashboard using a library called explainerdashboard. explainerdashboard is a library for quickly building interactive dashboards for analyzing and explaining the predictions and workings of (scikit-learn compatible) machine learning models."
   ]
  },
  {
   "cell_type": "code",
   "execution_count": 9,
   "id": "0a2a3451",
   "metadata": {},
   "outputs": [],
   "source": [
    "model = GradientBoostingClassifier(max_depth=3, n_estimators = 1600, learning_rate= 1)"
   ]
  },
  {
   "cell_type": "code",
   "execution_count": 10,
   "id": "094b8ccc",
   "metadata": {},
   "outputs": [
    {
     "data": {
      "text/plain": [
       "GradientBoostingClassifier(learning_rate=1, n_estimators=1600)"
      ]
     },
     "execution_count": 10,
     "metadata": {},
     "output_type": "execute_result"
    }
   ],
   "source": [
    "model.fit(X_train,  y_train.values.ravel())"
   ]
  },
  {
   "cell_type": "code",
   "execution_count": 11,
   "id": "a39d49dc",
   "metadata": {},
   "outputs": [
    {
     "name": "stdout",
     "output_type": "stream",
     "text": [
      "Generating self.shap_explainer = shap.TreeExplainer(model)\n"
     ]
    }
   ],
   "source": [
    "explainer = ClassifierExplainer(model, X_test, y_test, model_output='logodds')"
   ]
  },
  {
   "cell_type": "code",
   "execution_count": 16,
   "id": "a8667e5e",
   "metadata": {
    "scrolled": true
   },
   "outputs": [
    {
     "name": "stdout",
     "output_type": "stream",
     "text": [
      "Building ExplainerDashboard..\n",
      "Detected notebook environment, consider setting mode='external', mode='inline' or mode='jupyterlab' to keep the notebook interactive while the dashboard is running...\n",
      "The explainer object has no decision_trees property. so setting decision_trees=False...\n",
      "Warning: calculating shap interaction values can be slow! Pass shap_interaction=False to remove interactions tab.\n",
      "Generating layout...\n",
      "Calculating dependencies...\n",
      "Reminder: you can store the explainer (including calculated dependencies) with explainer.dump('explainer.joblib') and reload with e.g. ClassifierExplainer.from_file('explainer.joblib')\n",
      "Registering callbacks...\n"
     ]
    }
   ],
   "source": [
    "db = ExplainerDashboard(explainer, title=\"model explainer\", whatif=False)"
   ]
  },
  {
   "cell_type": "code",
   "execution_count": 17,
   "id": "cc0f6d4c",
   "metadata": {},
   "outputs": [
    {
     "name": "stdout",
     "output_type": "stream",
     "text": [
      "Dumping configuration .yaml to /Users/antwnhsvellopoulos/Desktop/GitHub/E_commerce_customer_churn_prediciton/Dashboard/dashboard.yaml...\n",
      "Dumping explainer to /Users/antwnhsvellopoulos/Desktop/GitHub/E_commerce_customer_churn_prediciton/Dashboard/explainer.joblib...\n"
     ]
    }
   ],
   "source": [
    "db.to_yaml(\"dashboard.yaml\", explainerfile=\"explainer.joblib\", dump_explainer=True)"
   ]
  },
  {
   "cell_type": "code",
   "execution_count": null,
   "id": "1443a252",
   "metadata": {},
   "outputs": [],
   "source": []
  }
 ],
 "metadata": {
  "kernelspec": {
   "display_name": "Python 3 (ipykernel)",
   "language": "python",
   "name": "python3"
  },
  "language_info": {
   "codemirror_mode": {
    "name": "ipython",
    "version": 3
   },
   "file_extension": ".py",
   "mimetype": "text/x-python",
   "name": "python",
   "nbconvert_exporter": "python",
   "pygments_lexer": "ipython3",
   "version": "3.7.12"
  }
 },
 "nbformat": 4,
 "nbformat_minor": 5
}
